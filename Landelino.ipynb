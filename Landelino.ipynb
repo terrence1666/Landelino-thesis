{
 "cells": [
  {
   "cell_type": "markdown",
   "metadata": {},
   "source": [
    "# Landelino-thesis"
   ]
  },
  {
   "cell_type": "code",
   "execution_count": 1,
   "metadata": {},
   "outputs": [],
   "source": [
    "import flopy\n",
    "import flopy.modflow as mf\n",
    "import flopy.utils as fu\n",
    "import flopy.utils.binaryfile as bf\n",
    "import matplotlib as mpl \n",
    "import matplotlib.pyplot as plt\n",
    "import numpy as np\n",
    "import os\n",
    "import pandas as pd\n",
    "import platform\n",
    "import shutil\n",
    "import sys\n",
    "import datetime\n",
    "import math\n",
    "from sklearn.metrics import mean_squared_error as mse"
   ]
  },
  {
   "cell_type": "markdown",
   "metadata": {},
   "source": [
    "### Print version"
   ]
  },
  {
   "cell_type": "code",
   "execution_count": 2,
   "metadata": {},
   "outputs": [
    {
     "name": "stdout",
     "output_type": "stream",
     "text": [
      "3.6.3 (v3.6.3:2c5fed8, Oct  3 2017, 18:11:49) [MSC v.1900 64 bit (AMD64)]\n",
      "numpy version: 1.14.3\n",
      "matplotlib version: 2.1.1\n",
      "flopy version: 3.2.10\n"
     ]
    }
   ],
   "source": [
    "print(sys.version)\n",
    "print('numpy version: {}'.format(np.__version__))\n",
    "print('matplotlib version: {}'.format(mpl.__version__))\n",
    "print('flopy version: {}'.format(flopy.__version__))"
   ]
  },
  {
   "cell_type": "markdown",
   "metadata": {},
   "source": [
    "### Setup folder where modflow-files are located"
   ]
  },
  {
   "cell_type": "code",
   "execution_count": 3,
   "metadata": {},
   "outputs": [],
   "source": [
    "workspace = os.path.join('model-test')\n",
    "if os.path.exists(workspace):\n",
    "    shutil.rmtree(workspace)\n",
    "\n",
    "if not os.path.exists(workspace):\n",
    "    os.makedirs(workspace)\n",
    "modelname = 'model'\n",
    "exe_name = 'mf2005'\n",
    "if platform.system() == 'Windows':\n",
    "    exe_name += '.exe'"
   ]
  },
  {
   "cell_type": "markdown",
   "metadata": {},
   "source": [
    "### Setup MF-Package"
   ]
  },
  {
   "cell_type": "code",
   "execution_count": 4,
   "metadata": {},
   "outputs": [],
   "source": [
    "tm = mf.Modflow(modelname=modelname, exe_name=exe_name, version='mf2k', model_ws=workspace)"
   ]
  },
  {
   "cell_type": "code",
   "execution_count": null,
   "metadata": {},
   "outputs": [],
   "source": [
    "nrow = \n",
    "ncol = \n",
    "nlay = \n",
    "\n",
    "Lx = 950\n",
    "Ly = 1\n",
    "\n",
    "botm = np.ones ( (nlay, nrow, ncol), dtype=np.int32 )\n",
    "top = np.ones ( (nrow, ncol), dtype=np.int32 )\n",
    "\n",
    "# Range does not include upper bound !!!\n",
    "for i in range ( 30, 33):\n",
    "    top[ :, i ] = 31\n",
    "for i in range ( 47, 48 ):\n",
    "    top[ :, i ] = 28\n",
    "for i in range ( 50, 65):\n",
    "    top[ :, i ] = 32\n",
    "\n",
    "# N1 layer\n",
    "botm[ 0, :, : ] = 28\n",
    "for i in range ( 30, 33):\n",
    "    botm[ 0,:, i ] = 25\n",
    "for i in range ( 50, 65):\n",
    "    botm[ 0,:, i ] = 25\n",
    "## N2 layer\n",
    "#for i in range ( 0, 46):\n",
    "#    botm[ 1, :, i ] = 24\n",
    "#for i in range ( 46, 48 ):\n",
    "#    botm[ 1, :, i ] = 25\n",
    "#for i in range ( 48, 67 ):\n",
    "#    botm[ 1, :, i ] = 26\n",
    "#for i in range ( 67, ncol ):\n",
    "#    botm[ 1, :, i ] = 25\n",
    "# N3 layer\n",
    "for i in range ( 0, 33 ):\n",
    "    botm[ 1, :, i ] = 20\n",
    "for i in range ( 33, 46 ):\n",
    "    botm[ 1, :, i ] = 21.5\n",
    "for i in range ( 46, 48 ):\n",
    "    botm[ 1, :, i ] = 24\n",
    "for i in range ( 48, ncol ):\n",
    "    botm[ 1, :, i ] = 24.5\n",
    "# N4 layer\n",
    "for i in range ( 0, 47 ):\n",
    "    botm[ 2, :, i ] = 17\n",
    "for i in range ( 47, 50 ):\n",
    "    botm[ 2, :, i ] = 16\n",
    "for i in range ( 50, 60 ):\n",
    "    botm[ 2, :, i ] = 15\n",
    "for i in range ( 60, ncol ):\n",
    "    botm[ 2, :, i ] = 20\n",
    "# N5 layer\n",
    "for i in range ( 0, 50 ):\n",
    "    botm[ 3, :, i ] = 15\n",
    "for i in range ( 50, 60 ):\n",
    "    botm[ 3, :, i ] = 14\n",
    "for i in range ( 60, ncol ):\n",
    "    botm[ 3, :, i ] = 16\n",
    "# N6 layer\n",
    "for i in range ( 0, 60 ):\n",
    "    botm[ 4, :, i ] = 13\n",
    "for i in range ( 60, ncol ):\n",
    "    botm[ 4, :, i ] = 15\n",
    "# 7 layer\n",
    "botm[ 5, :, : ] = 10\n",
    "# 8 layer\n",
    "botm[ 6, :, : ] = 9\n",
    "# 9 layer\n",
    "botm[ 7, :, : ] = -12.5\n",
    "# 10 layer\n",
    "botm[ 8, :, : ] = -30\n",
    "\n",
    "delr = Lx / ncol\n",
    "delc = Ly / nrow\n",
    "nper = 505\n",
    "\n",
    "perlen = np.ones ( nper) * 7\n",
    "perlen[0] = 1\n",
    "#nstp = np.ones ( nper) * 7\n",
    "#nstp[0] = 1\n",
    "#print(perlen)\n",
    "steady = np.full ( nper, False, dtype=bool )\n",
    "steady[ 0 ] = True\n",
    "dis = mf.ModflowDis(\n",
    "    tm, \n",
    "    nlay=nlay,\n",
    "    nrow=nrow, \n",
    "    ncol=ncol, \n",
    "    delr=delr, \n",
    "    delc=delc, \n",
    "    top=top, \n",
    "    botm=botm, \n",
    "    nper=nper,\n",
    "    perlen = perlen,\n",
    "    steady=steady,\n",
    "    lenuni = 2,\n",
    "    xul = 781658.203,#375003.097,\n",
    "    yul = 5831682.381,#6902348.682,\n",
    "    proj4_str = \"EPSG:32632\",\n",
    "    start_datetime = '11/05/2005'\n",
    ")\n",
    "\n",
    "modelxsect= flopy.plot.ModelCrossSection(model=tm, line={'Row':0})\n",
    "linecollection= modelxsect.plot_grid()"
   ]
  }
 ],
 "metadata": {
  "kernelspec": {
   "display_name": "Python 3",
   "language": "python",
   "name": "python3"
  },
  "language_info": {
   "codemirror_mode": {
    "name": "ipython",
    "version": 3
   },
   "file_extension": ".py",
   "mimetype": "text/x-python",
   "name": "python",
   "nbconvert_exporter": "python",
   "pygments_lexer": "ipython3",
   "version": "3.6.3"
  }
 },
 "nbformat": 4,
 "nbformat_minor": 2
}
